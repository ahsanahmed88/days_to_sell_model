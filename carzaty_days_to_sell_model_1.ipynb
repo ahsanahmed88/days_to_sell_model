{
 "cells": [
  {
   "cell_type": "code",
   "execution_count": 105,
   "metadata": {},
   "outputs": [],
   "source": [
    "import pandas as pd\n",
    "import numpy as np\n",
    "from sklearn.linear_model import LinearRegression\n",
    "from scipy.stats import zscore\n",
    "import traceback\n",
    "\n",
    "M1_STD_THRESHOLD = 2\n",
    "M2_STD_THRESHOLD = 2\n",
    "\n",
    "M2_DATA_FILE_PATH = \"/home/ahsan/Downloads/days_to_sell_m1.csv\""
   ]
  },
  {
   "cell_type": "code",
   "execution_count": 109,
   "metadata": {},
   "outputs": [],
   "source": [
    "def getData(year, make, model, trim):\n",
    "\n",
    "    allData = pd.read_csv(M2_DATA_FILE_PATH)\n",
    "    \n",
    "    trimData = allData[allData[\"make\"] == make]\n",
    "    trimData = trimData[trimData[\"model\"] == model]\n",
    "    trimData = trimData[trimData[\"trim\"] == trim]\n",
    "   \n",
    "    return trimData"
   ]
  },
  {
   "cell_type": "code",
   "execution_count": 132,
   "metadata": {},
   "outputs": [],
   "source": [
    "def removeOutliers(data):\n",
    "    data['days_to_sell'] = data['days_to_sell'].astype(int)\n",
    "    data['year'] = data['year'].astype(int)\n",
    "   \n",
    "    data['zs_days_to_sell'] = data.groupby(['make' , 'model', 'trim']).days_to_sell.transform(lambda x: zscore(x, ddof=1))\n",
    "\n",
    "    # for single year value, where we don't have zcore\n",
    "    data['zs_days_to_sell'].fillna(M2_STD_THRESHOLD, inplace=True)\n",
    "\n",
    "    p_lower = data['zs_days_to_sell'] <= M2_STD_THRESHOLD\n",
    "    p_higer = data['zs_days_to_sell'] >= (-1 * M2_STD_THRESHOLD)\n",
    "\n",
    "    data = data[p_lower & p_higer]\n",
    "    \n",
    "    data = data.drop(['zs_days_to_sell', 'trim', 'make', 'model'], axis=1)\n",
    "    \n",
    "    return data\n"
   ]
  },
  {
   "cell_type": "code",
   "execution_count": 133,
   "metadata": {},
   "outputs": [
    {
     "name": "stdout",
     "output_type": "stream",
     "text": [
      "      year  days_to_sell\n",
      "157   2012            26\n",
      "158   2012            27\n",
      "159   2012            45\n",
      "160   2012            70\n",
      "161   2012            74\n",
      "162   2012            94\n",
      "163   2012            95\n",
      "164   2012            98\n",
      "165   2012            99\n",
      "166   2012           102\n",
      "167   2012           103\n",
      "168   2012           107\n",
      "169   2012           108\n",
      "170   2012           109\n",
      "171   2012           110\n",
      "172   2012           112\n",
      "173   2012           115\n",
      "174   2012           116\n",
      "1285  2013            18\n",
      "1286  2013            32\n",
      "1287  2013            35\n",
      "1288  2013            95\n",
      "2609  2014            30\n",
      "2610  2014            41\n",
      "4105  2015            11\n",
      "4106  2015            17\n",
      "4107  2015            30\n",
      "4108  2015            37\n",
      "4109  2015            49\n",
      "4110  2015            55\n",
      "4111  2015            69\n",
      "6279  2016            11\n",
      "6280  2016            22\n",
      "6281  2016            95\n",
      "8084  2017            14\n",
      "8085  2017            15\n",
      "8086  2017            16\n",
      "8087  2017            22\n",
      "8088  2017            24\n",
      "8089  2017            25\n",
      "8090  2017            30\n",
      "8091  2017            47\n",
      "8092  2017            55\n",
      "8093  2017            61\n",
      "8094  2017            90\n",
      "8095  2017           100\n",
      "8096  2017           105\n"
     ]
    }
   ],
   "source": [
    "data = getData(2012, \"Hyundai\", \"Accent\", \"GL\")\n",
    "print( removeOutliers(data) )"
   ]
  },
  {
   "cell_type": "code",
   "execution_count": 130,
   "metadata": {},
   "outputs": [],
   "source": [
    "# we are no more using R2 score for M1\n",
    "# M1_ACCEPTABLE_R2_SCORE = 0\n",
    "M1_ACCEPTABLE_R2_SCORE = 0.45\n",
    "DEPRECIATION_PERCENTAGE = 1.5\n",
    "\n",
    "\n",
    "def sanitize(str):\n",
    "    return str.replace(\" \", \"_\").replace(\"-\", \"_\").replace(\".\", \"_\").replace(\"+\", \"_\").lower()\n",
    "\n",
    "\n",
    "\n",
    "def predict_m1(year, make, model, trim):\n",
    "    response = {\"score\": 0, \"days_to_sell\": 0, \"error\": \"\"}\n",
    "    trimData = getData(year, make, model, trim)\n",
    "\n",
    "    if len(trimData) > 0:\n",
    "        trimDataOutliersRemoved = removeOutliers(trimData)\n",
    "        \n",
    "        if len(trimDataOutliersRemoved) > 2:\n",
    "           \n",
    "                X = trimDataOutliersRemoved.drop('days_to_sell', axis='columns')\n",
    "                \n",
    "                y = trimDataOutliersRemoved.days_to_sell\n",
    "               \n",
    "                model = LinearRegression()\n",
    "                \n",
    "                model.fit(X, y)\n",
    "                \n",
    "                response['score'] = model.score(X, y)\n",
    "                \n",
    "        \n",
    "               \n",
    "                x = np.zeros(len(X.columns))\n",
    "                x[0] = int(year)\n",
    "               \n",
    "                try:\n",
    "                    response['days_to_sell'] = model.predict([x])[0]\n",
    "                except Exception as e:\n",
    "                    response['days_to_sell'] = 0\n",
    "\n",
    "                return response\n",
    "            \n",
    "        else:\n",
    "            return response\n",
    "    else:\n",
    "        return response\n",
    "\n",
    "\n",
    "def getPrice(year, make, model, trim):\n",
    "    try:\n",
    "        m1_response = predict_m2(year, make, model, trim)\n",
    "        \n",
    "        print( m1_response )\n",
    "\n",
    "        if m1_response['score'] > M1_ACCEPTABLE_R2_SCORE:\n",
    "                 final_days = m1_response['days_to_sell']\n",
    "        else:\n",
    "             final_days = 0\n",
    "\n",
    "        if final_days < 0:\n",
    "             final_days = 0\n",
    "\n",
    "        return final_days\n",
    "    except Exception as ex:\n",
    "        print(ex)\n",
    "        print(traceback.format_exc())\n",
    "        return 0"
   ]
  },
  {
   "cell_type": "code",
   "execution_count": null,
   "metadata": {},
   "outputs": [],
   "source": []
  },
  {
   "cell_type": "code",
   "execution_count": 134,
   "metadata": {},
   "outputs": [
    {
     "name": "stdout",
     "output_type": "stream",
     "text": [
      "{'score': 0.24752109793623922, 'days_to_sell': 80.24236252545961, 'error': ''}\n"
     ]
    },
    {
     "data": {
      "text/plain": [
       "0"
      ]
     },
     "execution_count": 134,
     "metadata": {},
     "output_type": "execute_result"
    }
   ],
   "source": [
    "trim = \"GL\"\n",
    "make = \"Hyundai\"\n",
    "model = \"Accent\"\n",
    "year = 2012\n",
    "\n",
    "getPrice( year, make, model, trim  )"
   ]
  },
  {
   "cell_type": "code",
   "execution_count": null,
   "metadata": {},
   "outputs": [],
   "source": []
  },
  {
   "cell_type": "code",
   "execution_count": null,
   "metadata": {},
   "outputs": [],
   "source": []
  },
  {
   "cell_type": "code",
   "execution_count": null,
   "metadata": {},
   "outputs": [],
   "source": []
  }
 ],
 "metadata": {
  "kernelspec": {
   "display_name": "Python 3",
   "language": "python",
   "name": "python3"
  },
  "language_info": {
   "codemirror_mode": {
    "name": "ipython",
    "version": 2
   },
   "file_extension": ".py",
   "mimetype": "text/x-python",
   "name": "python",
   "nbconvert_exporter": "python",
   "pygments_lexer": "ipython2",
   "version": "2.7.16"
  }
 },
 "nbformat": 4,
 "nbformat_minor": 4
}

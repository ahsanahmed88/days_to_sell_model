{
 "cells": [
  {
   "cell_type": "code",
   "execution_count": 43,
   "metadata": {},
   "outputs": [],
   "source": [
    "import pandas as pd\n",
    "import numpy as np\n",
    "from sklearn.linear_model import LinearRegression\n",
    "from scipy.stats import zscore\n",
    "import traceback\n",
    "\n",
    "M1_STD_THRESHOLD = 2\n",
    "M2_STD_THRESHOLD = 2\n",
    "\n",
    "M2_DATA_FILE_PATH = \"/home/ahsan/Downloads/days_to_sell_m2.csv\""
   ]
  },
  {
   "cell_type": "code",
   "execution_count": 77,
   "metadata": {},
   "outputs": [],
   "source": [
    "def getData(year, make, model, trim, mileage):\n",
    "\n",
    "    allData = pd.read_csv(M2_DATA_FILE_PATH)\n",
    "    \n",
    "    trimData = allData[allData[\"make\"] == make]\n",
    "    trimData = trimData[trimData[\"model\"] == model]\n",
    "    trimData = trimData[trimData[\"trim\"] == trim]\n",
    "   \n",
    "    return trimData"
   ]
  },
  {
   "cell_type": "code",
   "execution_count": 82,
   "metadata": {},
   "outputs": [],
   "source": [
    "def removeOutliers(data):\n",
    "    data['days_to_sell'] = data['days_to_sell'].astype(int)\n",
    "    data['year'] = data['year'].astype(int)\n",
    "    data['mileage'] = data['mileage'].astype(int)\n",
    "   \n",
    "    data['zs_days_to_sell'] = data.groupby(['make' , 'model', 'trim', 'year']).days_to_sell.transform(lambda x: zscore(x, ddof=1))\n",
    "\n",
    "    # for single year value, where we don't have zcore\n",
    "    data['zs_days_to_sell'].fillna(M2_STD_THRESHOLD, inplace=True)\n",
    "\n",
    "    p_lower = data['zs_days_to_sell'] <= M2_STD_THRESHOLD\n",
    "    p_higer = data['zs_days_to_sell'] >= (-1 * M2_STD_THRESHOLD)\n",
    "\n",
    "    data = data[p_lower & p_higer]\n",
    "    \n",
    "    data = data.drop(['zs_days_to_sell', 'trim', 'make', 'model'], axis=1)\n",
    "    \n",
    "    return data\n"
   ]
  },
  {
   "cell_type": "code",
   "execution_count": 83,
   "metadata": {},
   "outputs": [
    {
     "name": "stdout",
     "output_type": "stream",
     "text": [
      "      year  mileage  days_to_sell\n",
      "18    2012   145000            90\n",
      "19    2012   145469            44\n",
      "1133  2013    74912            22\n",
      "1134  2013    94900             9\n",
      "1135  2013    95000             8\n",
      "1136  2013   110000            33\n",
      "1137  2013   116500            31\n",
      "1138  2013   156000            17\n",
      "1139  2013   157500            19\n",
      "1140  2013  1250000            43\n",
      "2796  2014    81000            58\n",
      "2797  2014    81000            79\n",
      "2798  2014    96800            38\n",
      "2799  2014   119000            25\n",
      "2800  2014   119400            28\n",
      "2801  2014   167523            44\n"
     ]
    }
   ],
   "source": [
    "trim = \"TFSI quattro\"\n",
    "make = \"Audi\"\n",
    "model = \"Q7\"\n",
    "year = 2013\n",
    "mileage = 150000\n",
    "\n",
    "data = getData(year, make, model, trim, mileage)\n",
    "print( removeOutliers(data) )"
   ]
  },
  {
   "cell_type": "code",
   "execution_count": 84,
   "metadata": {},
   "outputs": [],
   "source": [
    "# we are no more using R2 score for M1\n",
    "# M1_ACCEPTABLE_R2_SCORE = 0\n",
    "M2_ACCEPTABLE_R2_SCORE = 0.45\n",
    "DEPRECIATION_PERCENTAGE = 1.5\n",
    "\n",
    "\n",
    "def sanitize(str):\n",
    "    return str.replace(\" \", \"_\").replace(\"-\", \"_\").replace(\".\", \"_\").replace(\"+\", \"_\").lower()\n",
    "\n",
    "\n",
    "\n",
    "def predict_m2(year, make, model, trim, mileage):\n",
    "    response = {\"score\": 0, \"days_to_sell\": 0, \"error\": \"\"}\n",
    "    trimData = getData(year, make, model, trim, mileage)\n",
    "\n",
    "    \n",
    "    if len(trimData) > 0:\n",
    "        trimDataOutliersRemoved = removeOutliers(trimData)\n",
    "        \n",
    "        if len(trimDataOutliersRemoved) > 2:\n",
    "           \n",
    "                X = trimDataOutliersRemoved.drop('days_to_sell', axis='columns')\n",
    "                \n",
    "                y = trimDataOutliersRemoved.days_to_sell\n",
    "               \n",
    "                model = LinearRegression()\n",
    "                \n",
    "                model.fit(X, y)\n",
    "                \n",
    "                response['score'] = model.score(X, y)\n",
    "                \n",
    "                x = np.zeros(len(X.columns))\n",
    "                x[0] = int(year)\n",
    "                x[1] = int(mileage)\n",
    "               \n",
    "                try:\n",
    "                    response['days_to_sell'] = model.predict([x])[0]\n",
    "                except Exception as e:\n",
    "                    response['days_to_sell'] = 0\n",
    "\n",
    "                return response\n",
    "            \n",
    "        else:\n",
    "            return response\n",
    "    else:\n",
    "        return response\n",
    "\n",
    "\n",
    "def getPrice(year, make, model, trim, mileage):\n",
    "    try:\n",
    "        m2_response = predict_m2(year, make, model, trim, mileage)\n",
    "        \n",
    "        print( m2_response )\n",
    "\n",
    "        if m2_response['score'] > M2_ACCEPTABLE_R2_SCORE:\n",
    "                 final_days = m2_response['days_to_sell']\n",
    "        else:\n",
    "             final_days = 0\n",
    "\n",
    "        if final_days < 0:\n",
    "             final_days = 0\n",
    "\n",
    "        return final_days\n",
    "    except Exception as ex:\n",
    "        print(ex)\n",
    "        print(traceback.format_exc())\n",
    "        return 0"
   ]
  },
  {
   "cell_type": "code",
   "execution_count": null,
   "metadata": {},
   "outputs": [],
   "source": []
  },
  {
   "cell_type": "code",
   "execution_count": 85,
   "metadata": {},
   "outputs": [
    {
     "name": "stdout",
     "output_type": "stream",
     "text": [
      "{'score': 0.006154399086188534, 'days_to_sell': 36.78162591170735, 'error': ''}\n"
     ]
    },
    {
     "data": {
      "text/plain": [
       "0"
      ]
     },
     "execution_count": 85,
     "metadata": {},
     "output_type": "execute_result"
    }
   ],
   "source": [
    "trim = \"TFSI quattro\"\n",
    "make = \"Audi\"\n",
    "model = \"Q7\"\n",
    "year = 2013\n",
    "mileage = 150000\n",
    "\n",
    "getPrice( year, make, model, trim, mileage )"
   ]
  },
  {
   "cell_type": "code",
   "execution_count": null,
   "metadata": {},
   "outputs": [],
   "source": []
  },
  {
   "cell_type": "code",
   "execution_count": null,
   "metadata": {},
   "outputs": [],
   "source": []
  },
  {
   "cell_type": "code",
   "execution_count": null,
   "metadata": {},
   "outputs": [],
   "source": []
  }
 ],
 "metadata": {
  "kernelspec": {
   "display_name": "Python 3",
   "language": "python",
   "name": "python3"
  },
  "language_info": {
   "codemirror_mode": {
    "name": "ipython",
    "version": 2
   },
   "file_extension": ".py",
   "mimetype": "text/x-python",
   "name": "python",
   "nbconvert_exporter": "python",
   "pygments_lexer": "ipython2",
   "version": "2.7.16"
  }
 },
 "nbformat": 4,
 "nbformat_minor": 4
}
